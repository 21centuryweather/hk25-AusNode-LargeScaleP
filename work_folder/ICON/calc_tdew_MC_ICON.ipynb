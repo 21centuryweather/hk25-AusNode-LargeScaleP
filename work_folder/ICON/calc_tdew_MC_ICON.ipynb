{
 "cells": [
  {
   "cell_type": "code",
   "execution_count": 1,
   "id": "31152bc4-1cc0-4290-8128-f91fddce443d",
   "metadata": {},
   "outputs": [],
   "source": [
    "import xarray as xr\n",
    "import matplotlib.pyplot as plt\n",
    "import numpy as np\n",
    "import os\n",
    "from glob import glob\n",
    "from tqdm import tqdm\n",
    "import pandas as pd\n",
    "import dask\n",
    "from multiprocess import Pool"
   ]
  },
  {
   "cell_type": "code",
   "execution_count": 2,
   "id": "6c2bdd77-e39c-40bc-ba5e-f9d7970120de",
   "metadata": {},
   "outputs": [],
   "source": [
    "def dewpoint_from_q(q, p):\n",
    "    '''\n",
    "    q - specific humidity in kg/kg\n",
    "    p - pressure in hPa\n",
    "    return: \n",
    "    t_d - dewpoint in K\n",
    "    '''\n",
    "    M_w = 18.015268 # g/mol\n",
    "    M_d = 28.96546  # g/mol\n",
    "    epsilon = M_w /  M_d\n",
    "    \n",
    "    ### mixing ratio w \n",
    "    w = q / (1-q)\n",
    "    ### vapour pressure e\n",
    "    e = p * w / (epsilon + w)\n",
    "    ### intermediate variable val\n",
    "    val = np.log(e/6.112)\n",
    "    ### dewpoint t_d\n",
    "    t_d = 273.15 + 243.5*val / (17.67 - val)\n",
    "    return t_d"
   ]
  },
  {
   "cell_type": "code",
   "execution_count": 3,
   "id": "5b47cf2d-61a7-4868-bab7-1c5896e0688c",
   "metadata": {},
   "outputs": [],
   "source": [
    "ds_hus = xr.open_dataset(\"/scratch/nf33/hk25_LSP/Germany/MC/hus_6hourly.nc\")\n"
   ]
  },
  {
   "cell_type": "code",
   "execution_count": 4,
   "id": "57e74a6e-7257-4883-8ef5-73be1d02433f",
   "metadata": {},
   "outputs": [],
   "source": [
    "td_arr = np.zeros_like(ds_hus[\"hus\"].values)"
   ]
  },
  {
   "cell_type": "code",
   "execution_count": 5,
   "id": "d796ed25-03eb-4f0c-b7bc-4b4949793bbc",
   "metadata": {},
   "outputs": [],
   "source": [
    "for i, plvl in enumerate(ds_hus[\"pressure\"]):\n",
    "    td_arr[:,i,:,:] = dewpoint_from_q(ds_hus[\"hus\"].sel(pressure=plvl).values,plvl.values/100)"
   ]
  },
  {
   "cell_type": "code",
   "execution_count": 6,
   "id": "ac35a65f-99c1-4c47-b1f1-73740727a236",
   "metadata": {},
   "outputs": [],
   "source": [
    "ds_td = ds_hus.copy(deep=True)"
   ]
  },
  {
   "cell_type": "code",
   "execution_count": 7,
   "id": "3596973e-467f-41f1-9d60-9b93b17500db",
   "metadata": {},
   "outputs": [],
   "source": [
    "ds_td[\"hus\"].values = td_arr\n",
    "ds_td = ds_td.rename({\"hus\": \"tdew\"})"
   ]
  },
  {
   "cell_type": "code",
   "execution_count": 8,
   "id": "467ec90d-a4d9-48b5-a92e-a558e2ee99e8",
   "metadata": {},
   "outputs": [],
   "source": [
    "ds_td.to_netcdf(\"/scratch/nf33/hk25_LSP/Germany/MC/tdew_6hourly.nc\")"
   ]
  },
  {
   "cell_type": "code",
   "execution_count": null,
   "id": "d29399ee-0682-49bc-b2db-10d574803b5c",
   "metadata": {},
   "outputs": [],
   "source": []
  }
 ],
 "metadata": {
  "kernelspec": {
   "display_name": "Python [conda env:xcape_env]",
   "language": "python",
   "name": "conda-env-xcape_env-py"
  },
  "language_info": {
   "codemirror_mode": {
    "name": "ipython",
    "version": 3
   },
   "file_extension": ".py",
   "mimetype": "text/x-python",
   "name": "python",
   "nbconvert_exporter": "python",
   "pygments_lexer": "ipython3",
   "version": "3.11.12"
  }
 },
 "nbformat": 4,
 "nbformat_minor": 5
}
