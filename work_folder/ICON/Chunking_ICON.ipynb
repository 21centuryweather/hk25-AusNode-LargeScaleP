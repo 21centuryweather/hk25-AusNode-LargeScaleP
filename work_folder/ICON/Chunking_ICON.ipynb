{
 "cells": [
  {
   "cell_type": "code",
   "execution_count": 5,
   "id": "368a044c-3710-405b-ae0e-01aedf05a5ae",
   "metadata": {},
   "outputs": [],
   "source": [
    "import xarray as xr \n",
    "import numpy as np\n",
    "from tqdm import tqdm"
   ]
  },
  {
   "cell_type": "code",
   "execution_count": 2,
   "id": "e07b0c29-2e26-4949-89df-7484080325aa",
   "metadata": {},
   "outputs": [],
   "source": [
    "# Find the HEALPix pixels that are closest to the ERA5 grid\n",
    "res = 1\n",
    "# longitudes and latitudes for the ERA5 grid\n",
    "lon = np.arange(100,149+res,res)\n",
    "lat = np.arange(-13, 13+res,res)\n"
   ]
  },
  {
   "cell_type": "code",
   "execution_count": 3,
   "id": "3d76910c-518a-4433-9b85-912545ff36e3",
   "metadata": {},
   "outputs": [],
   "source": [
    "ds = xr.open_dataset(\"/scratch/nf33/hk25_LSP/Germany/MC/cape_cin_6hourly.nc\")"
   ]
  },
  {
   "cell_type": "code",
   "execution_count": 8,
   "id": "afd6b135-28a9-4a7f-82c1-e6d5e3409056",
   "metadata": {},
   "outputs": [],
   "source": [
    "ds_coarse = ds.coarsen(longitude=2,latitude=2, boundary=\"trim\").mean()"
   ]
  },
  {
   "cell_type": "code",
   "execution_count": 13,
   "id": "f7326bfa-8a11-4bf1-9010-c371240f4111",
   "metadata": {},
   "outputs": [
    {
     "name": "stderr",
     "output_type": "stream",
     "text": [
      "/jobfs/140911377.gadi-pbs/ipykernel_277728/981728954.py:1: SerializationWarning: saving variable latitude with floating point data as an integer dtype without any _FillValue to use for NaNs\n",
      "  ds_coarse.to_netcdf('/scratch/nf33/hk25_LSP/Germany/MC_chunk/cape_cin_2deg.nc')\n",
      "/jobfs/140911377.gadi-pbs/ipykernel_277728/981728954.py:1: SerializationWarning: saving variable longitude with floating point data as an integer dtype without any _FillValue to use for NaNs\n",
      "  ds_coarse.to_netcdf('/scratch/nf33/hk25_LSP/Germany/MC_chunk/cape_cin_2deg.nc')\n"
     ]
    }
   ],
   "source": [
    "ds_coarse.to_netcdf('/scratch/nf33/hk25_LSP/Germany/MC_chunk/cape_cin_2deg.nc')"
   ]
  },
  {
   "cell_type": "code",
   "execution_count": 14,
   "id": "5ef114e2-e9f2-4261-8a85-fe46a13243b9",
   "metadata": {},
   "outputs": [
    {
     "name": "stdout",
     "output_type": "stream",
     "text": [
      "CPU times: user 3.78 s, sys: 1.47 s, total: 5.25 s\n",
      "Wall time: 15.5 s\n"
     ]
    }
   ],
   "source": [
    "%%time\n",
    "ds_w = xr.open_mfdataset(\"/scratch/nf33/hk25_LSP/Germany/MC_chunk/w500_6hr_*.nc\")"
   ]
  },
  {
   "cell_type": "code",
   "execution_count": 15,
   "id": "a6fc1af1-ca51-4be9-80ef-798dab8594c7",
   "metadata": {},
   "outputs": [],
   "source": [
    "ds_w_coarse = ds_w.coarsen(longitude=2,latitude=2, boundary=\"trim\").mean()"
   ]
  },
  {
   "cell_type": "code",
   "execution_count": 17,
   "id": "3fe05678-23de-4f20-bc36-0db5bfb8a544",
   "metadata": {},
   "outputs": [
    {
     "name": "stderr",
     "output_type": "stream",
     "text": [
      "/jobfs/140911377.gadi-pbs/ipykernel_277728/4282325596.py:1: SerializationWarning: saving variable latitude with floating point data as an integer dtype without any _FillValue to use for NaNs\n",
      "  ds_w_coarse[\"__xarray_dataarray_variable__\"].to_dataset(name=\"wa\").to_netcdf('/scratch/nf33/hk25_LSP/Germany/MC_chunk/w500_2deg.nc')\n",
      "/jobfs/140911377.gadi-pbs/ipykernel_277728/4282325596.py:1: SerializationWarning: saving variable longitude with floating point data as an integer dtype without any _FillValue to use for NaNs\n",
      "  ds_w_coarse[\"__xarray_dataarray_variable__\"].to_dataset(name=\"wa\").to_netcdf('/scratch/nf33/hk25_LSP/Germany/MC_chunk/w500_2deg.nc')\n"
     ]
    }
   ],
   "source": [
    "ds_w_coarse[\"__xarray_dataarray_variable__\"].to_dataset(name=\"wa\").to_netcdf('/scratch/nf33/hk25_LSP/Germany/MC_chunk/w500_2deg.nc')"
   ]
  },
  {
   "cell_type": "code",
   "execution_count": 19,
   "id": "3f0ff0ad-5c6b-4037-925a-48ed21384d71",
   "metadata": {},
   "outputs": [
    {
     "name": "stdout",
     "output_type": "stream",
     "text": [
      "CPU times: user 18.4 ms, sys: 12.3 ms, total: 30.7 ms\n",
      "Wall time: 222 ms\n"
     ]
    }
   ],
   "source": [
    "%%time\n",
    "ds_rh = xr.open_mfdataset(\"/scratch/nf33/hk25_LSP/Germany/MC/rh500_2d_6hourly.nc\")"
   ]
  },
  {
   "cell_type": "code",
   "execution_count": 20,
   "id": "032c4220-01c4-4401-a96b-e53756ed4dcf",
   "metadata": {},
   "outputs": [],
   "source": [
    "ds_rh_coarse = ds_rh.coarsen(longitude=2,latitude=2, boundary=\"trim\").mean()"
   ]
  },
  {
   "cell_type": "code",
   "execution_count": 21,
   "id": "688e8a33-5db1-4246-82b5-545fe2bad95f",
   "metadata": {},
   "outputs": [
    {
     "name": "stderr",
     "output_type": "stream",
     "text": [
      "/jobfs/140911377.gadi-pbs/ipykernel_277728/1067676047.py:1: SerializationWarning: saving variable latitude with floating point data as an integer dtype without any _FillValue to use for NaNs\n",
      "  ds_rh_coarse.to_netcdf('/scratch/nf33/hk25_LSP/Germany/MC_chunk/rh500_2deg.nc')\n",
      "/jobfs/140911377.gadi-pbs/ipykernel_277728/1067676047.py:1: SerializationWarning: saving variable longitude with floating point data as an integer dtype without any _FillValue to use for NaNs\n",
      "  ds_rh_coarse.to_netcdf('/scratch/nf33/hk25_LSP/Germany/MC_chunk/rh500_2deg.nc')\n"
     ]
    }
   ],
   "source": [
    "ds_rh_coarse.to_netcdf('/scratch/nf33/hk25_LSP/Germany/MC_chunk/rh500_2deg.nc')"
   ]
  },
  {
   "cell_type": "code",
   "execution_count": null,
   "id": "87361786-38b6-4f2c-88f0-7961c5fdd0c4",
   "metadata": {},
   "outputs": [],
   "source": []
  }
 ],
 "metadata": {
  "kernelspec": {
   "display_name": "Python [conda env:xcape_env]",
   "language": "python",
   "name": "conda-env-xcape_env-py"
  },
  "language_info": {
   "codemirror_mode": {
    "name": "ipython",
    "version": 3
   },
   "file_extension": ".py",
   "mimetype": "text/x-python",
   "name": "python",
   "nbconvert_exporter": "python",
   "pygments_lexer": "ipython3",
   "version": "3.11.12"
  }
 },
 "nbformat": 4,
 "nbformat_minor": 5
}
