{
 "cells": [
  {
   "cell_type": "code",
   "execution_count": 1,
   "id": "03b01199-3f09-488d-9c49-1bd87c386ea0",
   "metadata": {},
   "outputs": [],
   "source": [
    "import numpy as np\n",
    "import xarray as xr\n",
    "from tqdm import tqdm\n",
    "from xcape.core import calc_cape\n",
    "import os"
   ]
  },
  {
   "cell_type": "code",
   "execution_count": 2,
   "id": "df700236-a9e9-4cf5-bd0a-afaf60bf3b8a",
   "metadata": {},
   "outputs": [],
   "source": [
    "idx=100\n",
    "ds_t = xr.open_dataset(\n",
    "        \"/scratch/nf33/hk25_LSP/Germany/MC/ta_6hourly.nc\").isel(time=idx)\n",
    "\n",
    "ds_tdew = xr.open_dataset(\n",
    "    \"/scratch/nf33/hk25_LSP/Germany/MC/tdew_6hourly.nc\").isel(time=idx)\n",
    "\n"
   ]
  },
  {
   "cell_type": "code",
   "execution_count": 3,
   "id": "029ad972-bb08-4153-9c51-1bbb9357d78a",
   "metadata": {},
   "outputs": [],
   "source": [
    "## flip the pressure levels bcos so it goes from surface (descending order)\n",
    "ta_da = ds_t[\"ta\"].stack(ngrid=('latitude','longitude'))\\\n",
    ".isel(pressure=slice(None, None, -1)).transpose('ngrid','pressure')-273.15\n",
    "tdew_da = ds_tdew[\"tdew\"].stack(ngrid=('latitude','longitude'))\\\n",
    ".isel(pressure=slice(None, None, -1)).transpose('ngrid','pressure')-273.15\n",
    "\n",
    "ta_surf = ds_t[\"ta\"].isel(pressure=-1).stack(ngrid=('latitude','longitude')).values.flatten()-273.15\n",
    "tdew_surf = ds_tdew[\"tdew\"].isel(pressure=-1).stack(ngrid=('latitude','longitude')).values.flatten()-273.15\n",
    "        \n"
   ]
  },
  {
   "cell_type": "code",
   "execution_count": 9,
   "id": "43c73fd0-2cc3-40d9-bc89-3e5eeace7a2a",
   "metadata": {},
   "outputs": [],
   "source": [
    "ta_val = ta_da.load().values\n",
    "td_val = tdew_da.load().values\n",
    "psurf = np.zeros(ta_val.shape[0])\n",
    "psurf[:] = 1000\n",
    "# ICON pressure is in Pa not hPa\n",
    "plvl = ds_t.pressure.isel(pressure=slice(None, None, -1)).values.astype(float)/100        \n",
    "\n",
    "cape, cin, mulev, zmulev = calc_cape(plvl, ta_val, td_val, \n",
    "                                         psurf,ta_surf, \n",
    "                                         tdew_surf,\n",
    "                                         source ='most-unstable', vertical_lev=\"pressure\")"
   ]
  },
  {
   "cell_type": "code",
   "execution_count": 10,
   "id": "a0c3a5a7-9297-4cbb-aaf8-46a6c7a434c6",
   "metadata": {},
   "outputs": [
    {
     "data": {
      "text/plain": [
       "array([1697.5957  , 1675.0566  , 1538.769   , ...,  504.79498 ,\n",
       "        171.46666 ,   38.352276], dtype=float32)"
      ]
     },
     "execution_count": 10,
     "metadata": {},
     "output_type": "execute_result"
    }
   ],
   "source": [
    "cape"
   ]
  },
  {
   "cell_type": "code",
   "execution_count": null,
   "id": "a8cc0faf-5372-4d0b-868e-aefb642bd81a",
   "metadata": {},
   "outputs": [],
   "source": []
  }
 ],
 "metadata": {
  "kernelspec": {
   "display_name": "Python [conda env:xcape_env]",
   "language": "python",
   "name": "conda-env-xcape_env-py"
  },
  "language_info": {
   "codemirror_mode": {
    "name": "ipython",
    "version": 3
   },
   "file_extension": ".py",
   "mimetype": "text/x-python",
   "name": "python",
   "nbconvert_exporter": "python",
   "pygments_lexer": "ipython3",
   "version": "3.11.12"
  }
 },
 "nbformat": 4,
 "nbformat_minor": 5
}
