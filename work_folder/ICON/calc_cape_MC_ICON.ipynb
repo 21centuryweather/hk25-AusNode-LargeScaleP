{
 "cells": [
  {
   "cell_type": "code",
   "execution_count": 1,
   "id": "03b01199-3f09-488d-9c49-1bd87c386ea0",
   "metadata": {},
   "outputs": [],
   "source": [
    "import numpy as np\n",
    "import xarray as xr\n",
    "from tqdm import tqdm\n",
    "from xcape.core import calc_cape\n",
    "import os"
   ]
  },
  {
   "cell_type": "code",
   "execution_count": 2,
   "id": "df700236-a9e9-4cf5-bd0a-afaf60bf3b8a",
   "metadata": {},
   "outputs": [],
   "source": [
    "idx=100\n",
    "ds_t = xr.open_dataset(\n",
    "        \"/scratch/nf33/hk25_LSP/Germany/MC/ta_6hourly.nc\").isel(time=idx)\n",
    "\n",
    "ds_tdew = xr.open_dataset(\n",
    "    \"/scratch/nf33/hk25_LSP/Germany/MC/tdew_6hourly.nc\").isel(time=idx)\n",
    "\n"
   ]
  },
  {
   "cell_type": "code",
   "execution_count": 3,
   "id": "029ad972-bb08-4153-9c51-1bbb9357d78a",
   "metadata": {},
   "outputs": [],
   "source": [
    "## flip the pressure levels bcos so it goes from surface (descending order)\n",
    "ta_da = ds_t[\"ta\"].stack(ngrid=('latitude','longitude'))\\\n",
    ".isel(pressure=slice(None, None, -1)).transpose('ngrid','pressure')-273.15\n",
    "tdew_da = ds_tdew[\"tdew\"].stack(ngrid=('latitude','longitude'))\\\n",
    ".isel(pressure=slice(None, None, -1)).transpose('ngrid','pressure')-273.15\n",
    "\n",
    "ta_surf = ds_t[\"ta\"].isel(pressure=-1).stack(ngrid=('latitude','longitude')).values.flatten()-273.15\n",
    "tdew_surf = ds_tdew[\"tdew\"].isel(pressure=-1).stack(ngrid=('latitude','longitude')).values.flatten()-273.15\n",
    "        \n"
   ]
  },
  {
   "cell_type": "code",
   "execution_count": 9,
   "id": "43c73fd0-2cc3-40d9-bc89-3e5eeace7a2a",
   "metadata": {},
   "outputs": [],
   "source": [
    "ta_val = ta_da.load().values\n",
    "td_val = tdew_da.load().values\n",
    "psurf = np.zeros(ta_val.shape[0])\n",
    "psurf[:] = 1000\n",
    "# ICON pressure is in Pa not hPa\n",
    "plvl = ds_t.pressure.isel(pressure=slice(None, None, -1)).values.astype(float)/100        \n",
    "\n",
    "cape, cin, mulev, zmulev = calc_cape(plvl, ta_val, td_val, \n",
    "                                         psurf,ta_surf, \n",
    "                                         tdew_surf,\n",
    "                                         source ='most-unstable', vertical_lev=\"pressure\")"
   ]
  },
  {
   "cell_type": "markdown",
   "id": "236ae1cd-b88d-4206-a565-82e634e472d4",
   "metadata": {},
   "source": [
    "run the py script to get CAPE and CIN for the entire dataset"
   ]
  },
  {
   "cell_type": "code",
   "execution_count": 11,
   "id": "a0c3a5a7-9297-4cbb-aaf8-46a6c7a434c6",
   "metadata": {},
   "outputs": [],
   "source": [
    "ds_cape = xr.open_mfdataset(\"/scratch/nf33/hk25_LSP/Germany/MC/cape_cin/*.nc\")"
   ]
  },
  {
   "cell_type": "code",
   "execution_count": 12,
   "id": "a8cc0faf-5372-4d0b-868e-aefb642bd81a",
   "metadata": {},
   "outputs": [
    {
     "name": "stderr",
     "output_type": "stream",
     "text": [
      "/jobfs/140911377.gadi-pbs/ipykernel_273473/3375606680.py:1: UserWarning: Times can't be serialized faithfully to int64 with requested units 'days since 2020-03-01'. Serializing with units 'hours since 2020-03-01' instead. Set encoding['dtype'] to floating point dtype to serialize with units 'days since 2020-03-01'. Set encoding['units'] to 'hours since 2020-03-01' to silence this warning .\n",
      "  ds_cape.to_netcdf(\"/scratch/nf33/hk25_LSP/Germany/MC/cape_cin_6hourly.nc\")\n"
     ]
    }
   ],
   "source": [
    "ds_cape.to_netcdf(\"/scratch/nf33/hk25_LSP/Germany/MC/cape_cin_6hourly.nc\")"
   ]
  },
  {
   "cell_type": "code",
   "execution_count": null,
   "id": "7304cb8c-e0a3-4f52-9be4-304bfe0d0c73",
   "metadata": {},
   "outputs": [],
   "source": []
  }
 ],
 "metadata": {
  "kernelspec": {
   "display_name": "Python [conda env:xcape_env]",
   "language": "python",
   "name": "conda-env-xcape_env-py"
  },
  "language_info": {
   "codemirror_mode": {
    "name": "ipython",
    "version": 3
   },
   "file_extension": ".py",
   "mimetype": "text/x-python",
   "name": "python",
   "nbconvert_exporter": "python",
   "pygments_lexer": "ipython3",
   "version": "3.11.12"
  }
 },
 "nbformat": 4,
 "nbformat_minor": 5
}
