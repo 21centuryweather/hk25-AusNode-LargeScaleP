{
 "cells": [
  {
   "cell_type": "code",
   "execution_count": 1,
   "id": "c67bf0b4-6c66-46fd-8f12-2782535a7b09",
   "metadata": {},
   "outputs": [],
   "source": [
    "import xarray as xr\n",
    "import numpy as np\n",
    "import matplotlib.pyplot as plt\n",
    "from scipy import ndimage\n",
    "from skimage.measure import label\n",
    "from tqdm import tqdm\n",
    "import re\n",
    "from multiprocess import Pool\n",
    "import os\n",
    "import warnings\n",
    "with warnings.catch_warnings():\n",
    "    warnings.filterwarnings(\"ignore\", category=RuntimeWarning)"
   ]
  },
  {
   "cell_type": "code",
   "execution_count": 2,
   "id": "388e12cd-dbb4-4462-bd2b-8747868bb146",
   "metadata": {},
   "outputs": [],
   "source": [
    "ds_prcp = xr.open_dataset(f\"/scratch/nf33/hk25_LSP/Germany/MC/pr_hourly.nc\")\n",
    "domain_area = 200.0*200.0 "
   ]
  },
  {
   "cell_type": "code",
   "execution_count": 3,
   "id": "bc565ee3-91d4-4342-9bc8-095dec715ba4",
   "metadata": {},
   "outputs": [],
   "source": [
    "ds_coarse = xr.open_dataset(\"/scratch/nf33/hk25_LSP/Germany/MC_chunk/rh500_2deg.nc\")\n"
   ]
  },
  {
   "cell_type": "markdown",
   "id": "38b1cf8f-0454-4d4b-9f61-5b7d64a12f3c",
   "metadata": {},
   "source": [
    "0.5488934655786771 mm/hr"
   ]
  },
  {
   "cell_type": "code",
   "execution_count": 8,
   "id": "5bcafb7e-8cdd-43e3-ac4d-2e358c94763b",
   "metadata": {},
   "outputs": [],
   "source": [
    "pr_th = 0.5488934655786771"
   ]
  },
  {
   "cell_type": "code",
   "execution_count": 5,
   "id": "82e39e05-cc49-4cce-a44a-983ffe0b3551",
   "metadata": {},
   "outputs": [],
   "source": [
    "lat_centers = ds_coarse.latitude.values\n",
    "lon_centers = ds_coarse.longitude.values\n",
    "\n",
    "# half‐width = 1° on each side of the center\n",
    "lat_edges = np.concatenate((lat_centers - 1, [lat_centers[-1] + 1]))\n",
    "lon_edges = np.concatenate((lon_centers - 1, [lon_centers[-1] + 1]))"
   ]
  },
  {
   "cell_type": "code",
   "execution_count": 6,
   "id": "d8eb2249-a10a-4518-8d1b-99eca75e6d72",
   "metadata": {},
   "outputs": [],
   "source": [
    "def get_sub_prcp(args):\n",
    "    i,j = args\n",
    "    num_obj_arr = np.zeros(len(ds_prcp.time))\n",
    "    \n",
    "    ## array for total area\n",
    "    tot_area_arr = np.zeros(len(ds_prcp.time))\n",
    "    ## array to store mean cell size\n",
    "    mean_obj_area_arr = np.zeros(len(ds_prcp.time))\n",
    "    ## array to store convective area fraction\n",
    "    area_frac_arr = np.zeros(len(ds_prcp.time))\n",
    "    ## mean precipitation over convective area\n",
    "    cvt_mean_prcp_arr = np.zeros(len(ds_prcp.time))\n",
    "    ## mean precipitation over the entire radar scan\n",
    "    tot_mean_prcp_arr = np.zeros(len(ds_prcp.time))\n",
    "    ## total convective precipitation\n",
    "    cvt_tot_prcp_arr = np.zeros(len(ds_prcp.time))\n",
    "                                \n",
    "    lat0, lat1 = lat_edges[i], lat_edges[i+1]\n",
    "    lon0, lon1 = lon_edges[j], lon_edges[j+1]\n",
    "\n",
    "    # extract fine data within that box\n",
    "    sub = ds_prcp.sel(\n",
    "        latitude = slice(lat0, lat1),\n",
    "        longitude = slice(lon0, lon1)\n",
    "    )\n",
    "    for its in range(0,len(ds_prcp.time)):\n",
    "        prcp = sub[\"pr\"].isel(time=its)*3600\n",
    "        cvt_prcp = np.sum(prcp.values[prcp.values>=pr_th])    \n",
    "        cv_obj = prcp.copy().fillna(0)\n",
    "        cv_obj.values[cv_obj.values < pr_th] = 0\n",
    "        cv_obj.values[cv_obj.values >= pr_th] = 6\n",
    "        ## use scikit learn to label\n",
    "        label_arr = label(cv_obj)\n",
    "        ## find unique objects\n",
    "        unique_label = np.unique(label_arr)\n",
    "        ## get the number of objects \n",
    "        num_obj_arr[its] = len(unique_label) - 1   ## the background is 0\n",
    "        ## individual object area\n",
    "        ind_obj_area = np.zeros(len(unique_label) - 1)\n",
    "        for ilb in unique_label:\n",
    "            if ilb == 0:\n",
    "                continue\n",
    "            else:\n",
    "                ind_obj_area[ilb-1]= np.sum(label_arr == ilb)*16.0 ## the data is 0.04 by 0.04 deg so this is 16 km**2\n",
    "                ## this may be needed for precip thresholds\n",
    "                # if obj_area <=5:\n",
    "                #     label_new[label_new==i] = 0\n",
    "            with warnings.catch_warnings():\n",
    "                warnings.filterwarnings(\"ignore\", category=RuntimeWarning)\n",
    "                \n",
    "                tot_area_arr[its] = np.sum(ind_obj_area)\n",
    "                mean_obj_area_arr[its] = tot_area_arr[its]/num_obj_arr[its]\n",
    "                area_frac_arr[its] = tot_area_arr[its]/domain_area\n",
    "            \n",
    "                cvt_mean_prcp_arr[its] = cvt_prcp/tot_area_arr[its]\n",
    "                tot_mean_prcp_arr[its] = cvt_prcp/domain_area\n",
    "                cvt_tot_prcp_arr[its] = cvt_prcp\n",
    "    return num_obj_arr, tot_area_arr, mean_obj_area_arr, area_frac_arr, cvt_mean_prcp_arr, tot_mean_prcp_arr, cvt_tot_prcp_arr"
   ]
  },
  {
   "cell_type": "code",
   "execution_count": 7,
   "id": "4c260740-46d3-4425-b8c5-6b07bdcd2d75",
   "metadata": {},
   "outputs": [],
   "source": [
    "num_obj_3d = np.zeros((len(ds_prcp.time), ds_coarse.latitude.shape[0], ds_coarse.longitude.shape[0]))\n",
    "    \n",
    "## array for total area\n",
    "tot_area_3d = np.zeros((len(ds_prcp.time), ds_coarse.latitude.shape[0], ds_coarse.longitude.shape[0]))\n",
    "## array to store mean cell size\n",
    "mean_obj_area_3d = np.zeros((len(ds_prcp.time), ds_coarse.latitude.shape[0], ds_coarse.longitude.shape[0]))\n",
    "## array to store convective area fraction\n",
    "area_frac_3d = np.zeros((len(ds_prcp.time), ds_coarse.latitude.shape[0], ds_coarse.longitude.shape[0]))\n",
    "## mean precipitation over convective area\n",
    "cvt_mean_prcp_3d = np.zeros((len(ds_prcp.time), ds_coarse.latitude.shape[0], ds_coarse.longitude.shape[0]))\n",
    "## mean precipitation over the entire radar scan\n",
    "tot_mean_prcp_3d = np.zeros((len(ds_prcp.time), ds_coarse.latitude.shape[0], ds_coarse.longitude.shape[0]))\n",
    "## total convective precipitation\n",
    "cvt_tot_prcp_3d = np.zeros((len(ds_prcp.time), ds_coarse.latitude.shape[0], ds_coarse.longitude.shape[0]))"
   ]
  },
  {
   "cell_type": "code",
   "execution_count": null,
   "id": "a0b11432-6357-4688-a966-567c64340fb8",
   "metadata": {},
   "outputs": [
    {
     "name": "stderr",
     "output_type": "stream",
     "text": [
      " 42%|████▏     | 135/325 [06:30<03:27,  1.09s/it]  "
     ]
    }
   ],
   "source": [
    "args_list = [(i, j) for i in range(len(lat_edges)-1) for j in range(len(lon_edges)-1)]\n",
    "\n",
    "# Set the number of processes (adjust max_pool based on your system and level count)\n",
    "max_pool = 10\n",
    "\n",
    "# Use Pool to parallelize the work across multiple processes\n",
    "with Pool(max_pool) as p:\n",
    "    pool_outputs = list(\n",
    "        tqdm(\n",
    "            p.imap(get_sub_prcp, args_list),\n",
    "            total=len(args_list),\n",
    "            position=0, leave=True\n",
    "        )\n",
    "    )"
   ]
  },
  {
   "cell_type": "code",
   "execution_count": 10,
   "id": "a3cf918c-7708-4b4b-9378-83266bc486eb",
   "metadata": {},
   "outputs": [
    {
     "data": {
      "text/plain": [
       "325"
      ]
     },
     "execution_count": 10,
     "metadata": {},
     "output_type": "execute_result"
    }
   ],
   "source": [
    "len(pool_outputs)"
   ]
  },
  {
   "cell_type": "code",
   "execution_count": 12,
   "id": "91439a75-1e1f-4ba0-81ca-b012d71f0cb3",
   "metadata": {},
   "outputs": [],
   "source": [
    "nlon = len(lon_edges) - 1\n",
    "\n",
    "for flat_idx, value in enumerate(pool_outputs):\n",
    "    i = flat_idx // nlon   # row index\n",
    "    j = flat_idx %  nlon\n",
    "    num_obj_3d[:,i,j], tot_area_3d[:,i,j], mean_obj_area_3d[:,i,j], area_frac_3d[:,i,j], cvt_mean_prcp_3d[:,i,j], tot_mean_prcp_3d[:,i,j], cvt_tot_prcp_3d[:,i,j] = value"
   ]
  },
  {
   "cell_type": "code",
   "execution_count": 15,
   "id": "319c50a2-0f47-4610-b0c7-9c897be362f2",
   "metadata": {},
   "outputs": [],
   "source": [
    "## save to netcdf\n",
    "out = xr.Dataset(\n",
    "    {\n",
    "        \"num_obj\": ((\"time\",\"latitude\",\"longitude\"), num_obj_3d),\n",
    "        \"tot_area\":  ((\"time\",\"latitude\",\"longitude\"), tot_area_3d),\n",
    "        \"mean_obj_area\":  ((\"time\",\"latitude\",\"longitude\"), mean_obj_area_3d),\n",
    "        \"area_frac\":  ((\"time\",\"latitude\",\"longitude\"), area_frac_3d),\n",
    "        \"cvt_mean_prcp\":  ((\"time\",\"latitude\",\"longitude\"), cvt_mean_prcp_3d),\n",
    "        \"tot_mean_prcp\":  ((\"time\",\"latitude\",\"longitude\"), tot_mean_prcp_3d),\n",
    "        \"cvt_tot_prcp\":  ((\"time\",\"latitude\",\"longitude\"), cvt_tot_prcp_3d),\n",
    "        \n",
    "    },\n",
    "    coords={\n",
    "        \"time\":  ds_prcp.time.values,\n",
    "        \"latitude\": ds_coarse.latitude.values,\n",
    "        \"longitude\":ds_coarse.longitude.values,\n",
    "    },\n",
    ")\n",
    "out.to_netcdf(f\"/scratch/nf33/hk25_LSP/Germany/MC_chunk/number_size_hourly_0.5mm.nc\")\n",
    "out.close()\n",
    "ds_prcp.close()"
   ]
  },
  {
   "cell_type": "code",
   "execution_count": null,
   "id": "ff983e9e-b7a8-41c9-b58d-9e99647c6707",
   "metadata": {},
   "outputs": [],
   "source": []
  }
 ],
 "metadata": {
  "kernelspec": {
   "display_name": "Python [conda env:myenv]",
   "language": "python",
   "name": "conda-env-myenv-py"
  },
  "language_info": {
   "codemirror_mode": {
    "name": "ipython",
    "version": 3
   },
   "file_extension": ".py",
   "mimetype": "text/x-python",
   "name": "python",
   "nbconvert_exporter": "python",
   "pygments_lexer": "ipython3",
   "version": "3.9.7"
  }
 },
 "nbformat": 4,
 "nbformat_minor": 5
}
