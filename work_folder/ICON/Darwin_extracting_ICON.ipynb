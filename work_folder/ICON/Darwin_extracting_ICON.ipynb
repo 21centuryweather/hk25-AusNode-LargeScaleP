{
 "cells": [
  {
   "cell_type": "code",
   "execution_count": 8,
   "id": "c67bf0b4-6c66-46fd-8f12-2782535a7b09",
   "metadata": {},
   "outputs": [],
   "source": [
    "import xarray as xr\n",
    "import numpy as np\n",
    "import matplotlib.pyplot as plt\n",
    "from scipy import ndimage\n",
    "from skimage.measure import label\n",
    "from tqdm import tqdm\n",
    "import re\n",
    "from multiprocess import Pool\n",
    "import os\n",
    "import warnings\n",
    "with warnings.catch_warnings():\n",
    "    warnings.filterwarnings(\"ignore\", category=RuntimeWarning)"
   ]
  },
  {
   "cell_type": "code",
   "execution_count": 9,
   "id": "388e12cd-dbb4-4462-bd2b-8747868bb146",
   "metadata": {},
   "outputs": [],
   "source": [
    "ds_prcp = xr.open_dataset(f\"/scratch/nf33/hk25_LSP/Germany/Darwin/pr_hourly.nc\")\n",
    "domain_area = 200.0*200.0*25 "
   ]
  },
  {
   "cell_type": "code",
   "execution_count": 10,
   "id": "4528c193-ab60-4091-81fc-1a43e7f60fd0",
   "metadata": {},
   "outputs": [],
   "source": [
    "prcp = ds_prcp[\"pr\"]*3600\n"
   ]
  },
  {
   "cell_type": "markdown",
   "id": "38b1cf8f-0454-4d4b-9f61-5b7d64a12f3c",
   "metadata": {},
   "source": [
    "0.5488934655786771 mm/hr"
   ]
  },
  {
   "cell_type": "code",
   "execution_count": 11,
   "id": "e83c4e70-c009-4da0-a560-e14a02edc982",
   "metadata": {},
   "outputs": [],
   "source": [
    "num_obj_arr = np.zeros(len(ds_prcp.time))\n",
    "    \n",
    "## array for total area\n",
    "tot_area_arr = np.zeros(len(ds_prcp.time))\n",
    "## array to store mean cell size\n",
    "mean_obj_area_arr = np.zeros(len(ds_prcp.time))\n",
    "## array to store convective area fraction\n",
    "area_frac_arr = np.zeros(len(ds_prcp.time))\n",
    "## mean precipitation over convective area\n",
    "cvt_mean_prcp_arr = np.zeros(len(ds_prcp.time))\n",
    "## mean precipitation over the entire radar scan\n",
    "tot_mean_prcp_arr = np.zeros(len(ds_prcp.time))\n",
    "## total convective precipitation\n",
    "cvt_tot_prcp_arr = np.zeros(len(ds_prcp.time))"
   ]
  },
  {
   "cell_type": "code",
   "execution_count": 12,
   "id": "5bcafb7e-8cdd-43e3-ac4d-2e358c94763b",
   "metadata": {},
   "outputs": [],
   "source": [
    "pr_th = 0.5488934655786771"
   ]
  },
  {
   "cell_type": "code",
   "execution_count": 13,
   "id": "4fc70f0a-c41a-44d1-9a30-d60f79098917",
   "metadata": {},
   "outputs": [],
   "source": [
    "for its in range(0,len(ds_prcp.time)):\n",
    "    # data = ds_prcp[\"steiner\"].isel(time=its)\n",
    "    prcp = ds_prcp[\"pr\"].isel(time=its)*3600\n",
    "    cvt_prcp = np.sum(prcp.values[prcp.values>=pr_th])    \n",
    "    cv_obj = prcp.copy().fillna(0)\n",
    "    cv_obj.values[cv_obj.values < pr_th] = 0\n",
    "    cv_obj.values[cv_obj.values >= pr_th] = 6\n",
    "    ## use scikit learn to label\n",
    "    label_arr = label(cv_obj)\n",
    "    ## find unique objects\n",
    "    unique_label = np.unique(label_arr)\n",
    "    ## get the number of objects \n",
    "    num_obj_arr[its] = len(unique_label) - 1   ## the background is 0\n",
    "    ## individual object area\n",
    "    ind_obj_area = np.zeros(len(unique_label) - 1)\n",
    "    for i in unique_label:\n",
    "        if i == 0:\n",
    "            continue\n",
    "        else:\n",
    "            ind_obj_area[i-1]= np.sum(label_arr == i)*25 ## the data is 5 km by 5 km so this is 25 km**2\n",
    "            ## this may be needed for precip thresholds\n",
    "            # if obj_area <=5:\n",
    "            #     label_new[label_new==i] = 0\n",
    "        with warnings.catch_warnings():\n",
    "            warnings.filterwarnings(\"ignore\", category=RuntimeWarning)\n",
    "            \n",
    "            tot_area_arr[its] = np.sum(ind_obj_area)\n",
    "            mean_obj_area_arr[its] = tot_area_arr[its]/num_obj_arr[its]\n",
    "            area_frac_arr[its] = tot_area_arr[its]/domain_area\n",
    "        \n",
    "            cvt_mean_prcp_arr[its] = cvt_prcp/tot_area_arr[its]\n",
    "            tot_mean_prcp_arr[its] = cvt_prcp/domain_area\n",
    "            cvt_tot_prcp_arr[its] = cvt_prcp"
   ]
  },
  {
   "cell_type": "code",
   "execution_count": 14,
   "id": "319c50a2-0f47-4610-b0c7-9c897be362f2",
   "metadata": {},
   "outputs": [],
   "source": [
    "## save to netcdf\n",
    "out = xr.Dataset(\n",
    "    {\n",
    "        \"num_obj\": ((\"time\"), num_obj_arr),\n",
    "        \"tot_area\":  ((\"time\"), tot_area_arr),\n",
    "        \"mean_obj_area\":  ((\"time\"), mean_obj_area_arr),\n",
    "        \"area_frac\":  ((\"time\"), area_frac_arr),\n",
    "        \"cvt_mean_prcp\":  ((\"time\"), cvt_mean_prcp_arr),\n",
    "        \"tot_mean_prcp\":  ((\"time\"), tot_mean_prcp_arr),\n",
    "        \"cvt_tot_prcp\":  ((\"time\"), cvt_tot_prcp_arr),\n",
    "        \n",
    "    },\n",
    "    coords={\n",
    "        \"time\":  ds_prcp.time.values,\n",
    "    },\n",
    ")\n",
    "out.to_netcdf(f\"/scratch/nf33/hk25_LSP/Germany/Darwin/number_size_hourly.nc\")\n",
    "out.close()\n",
    "ds_prcp.close()"
   ]
  },
  {
   "cell_type": "code",
   "execution_count": null,
   "id": "ff983e9e-b7a8-41c9-b58d-9e99647c6707",
   "metadata": {},
   "outputs": [],
   "source": []
  }
 ],
 "metadata": {
  "kernelspec": {
   "display_name": "Python [conda env:myenv]",
   "language": "python",
   "name": "conda-env-myenv-py"
  },
  "language_info": {
   "codemirror_mode": {
    "name": "ipython",
    "version": 3
   },
   "file_extension": ".py",
   "mimetype": "text/x-python",
   "name": "python",
   "nbconvert_exporter": "python",
   "pygments_lexer": "ipython3",
   "version": "3.9.7"
  }
 },
 "nbformat": 4,
 "nbformat_minor": 5
}
