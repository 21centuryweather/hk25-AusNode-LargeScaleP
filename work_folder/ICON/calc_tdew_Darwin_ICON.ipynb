{
 "cells": [
  {
   "cell_type": "code",
   "execution_count": 1,
   "id": "31152bc4-1cc0-4290-8128-f91fddce443d",
   "metadata": {},
   "outputs": [],
   "source": [
    "import xarray as xr\n",
    "import matplotlib.pyplot as plt\n",
    "import numpy as np\n",
    "import os\n",
    "from glob import glob\n",
    "from tqdm import tqdm\n",
    "import pandas as pd\n",
    "import dask\n",
    "from multiprocess import Pool"
   ]
  },
  {
   "cell_type": "code",
   "execution_count": 2,
   "id": "6c2bdd77-e39c-40bc-ba5e-f9d7970120de",
   "metadata": {},
   "outputs": [],
   "source": [
    "def dewpoint_from_q(q, p):\n",
    "    '''\n",
    "    q - specific humidity in kg/kg\n",
    "    p - pressure in hPa\n",
    "    return: \n",
    "    t_d - dewpoint in K\n",
    "    '''\n",
    "    M_w = 18.015268 # g/mol\n",
    "    M_d = 28.96546  # g/mol\n",
    "    epsilon = M_w /  M_d\n",
    "    \n",
    "    ### mixing ratio w \n",
    "    w = q / (1-q)\n",
    "    ### vapour pressure e\n",
    "    e = p * w / (epsilon + w)\n",
    "    ### intermediate variable val\n",
    "    val = np.log(e/6.112)\n",
    "    ### dewpoint t_d\n",
    "    t_d = 273.15 + 243.5*val / (17.67 - val)\n",
    "    return t_d"
   ]
  },
  {
   "cell_type": "code",
   "execution_count": 3,
   "id": "c57656fb-3c2e-4346-a05a-26183ef11cbe",
   "metadata": {},
   "outputs": [],
   "source": [
    "ds_hus = xr.open_dataset(\"/scratch/nf33/hk25_LSP/Germany/Darwin/hus_6hourly.nc\")\n"
   ]
  },
  {
   "cell_type": "code",
   "execution_count": 4,
   "id": "6b7721c3-5cc6-447d-a7dd-4dba7bbe964d",
   "metadata": {},
   "outputs": [],
   "source": [
    "td_arr = np.zeros_like(ds_hus[\"hus\"].values)"
   ]
  },
  {
   "cell_type": "code",
   "execution_count": 5,
   "id": "030fa932-fafa-4792-88a1-ba25dc992202",
   "metadata": {},
   "outputs": [],
   "source": [
    "for i, plvl in enumerate(ds_hus[\"pressure\"]):\n",
    "    td_arr[:,i,:,:] = dewpoint_from_q(ds_hus[\"hus\"].sel(pressure=plvl).values,plvl.values/100)"
   ]
  },
  {
   "cell_type": "code",
   "execution_count": 6,
   "id": "19565a92-5cf5-4a01-a582-cf2dd0ee68b2",
   "metadata": {},
   "outputs": [],
   "source": [
    "ds_td = ds_hus.copy(deep=True)"
   ]
  },
  {
   "cell_type": "code",
   "execution_count": 7,
   "id": "42c454b7-ae27-49b1-85d6-79ff1115b4b2",
   "metadata": {},
   "outputs": [],
   "source": [
    "ds_td[\"hus\"].values = td_arr\n",
    "ds_td = ds_td.rename({\"hus\": \"tdew\"})"
   ]
  },
  {
   "cell_type": "code",
   "execution_count": 8,
   "id": "68b2711d-6a54-429c-b137-ff6ec0977a50",
   "metadata": {},
   "outputs": [],
   "source": [
    "ds_td.to_netcdf(\"/scratch/nf33/hk25_LSP/Germany/Darwin/tdew_6hourly.nc\")"
   ]
  },
  {
   "cell_type": "code",
   "execution_count": null,
   "id": "8e57258d-4403-4c16-9917-35496a07b0cb",
   "metadata": {},
   "outputs": [],
   "source": []
  }
 ],
 "metadata": {
  "kernelspec": {
   "display_name": "Python [conda env:xcape_env]",
   "language": "python",
   "name": "conda-env-xcape_env-py"
  },
  "language_info": {
   "codemirror_mode": {
    "name": "ipython",
    "version": 3
   },
   "file_extension": ".py",
   "mimetype": "text/x-python",
   "name": "python",
   "nbconvert_exporter": "python",
   "pygments_lexer": "ipython3",
   "version": "3.11.12"
  }
 },
 "nbformat": 4,
 "nbformat_minor": 5
}
