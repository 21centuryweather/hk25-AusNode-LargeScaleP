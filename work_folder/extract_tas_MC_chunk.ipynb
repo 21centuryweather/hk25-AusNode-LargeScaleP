{
 "cells": [
  {
   "cell_type": "code",
   "execution_count": 1,
   "id": "78d689a6-d2d7-4163-b050-99db5d7a1bac",
   "metadata": {
    "scrolled": true
   },
   "outputs": [
    {
     "ename": "KeyError",
     "evalue": "\"No variable named 'tas'. Did you mean one of ('ts', 'ta', 'vas', 'uas')?\"",
     "output_type": "error",
     "traceback": [
      "\u001b[31m---------------------------------------------------------------------------\u001b[39m",
      "\u001b[31mKeyError\u001b[39m                                  Traceback (most recent call last)",
      "\u001b[32m/scratch/k10/yl8842/hk25/lib/python3.13/site-packages/xarray/core/dataset.py\u001b[39m in \u001b[36m?\u001b[39m\u001b[34m(self, name)\u001b[39m\n\u001b[32m   1153\u001b[39m             variable = self._variables[name]\n\u001b[32m   1154\u001b[39m         \u001b[38;5;28;01mexcept\u001b[39;00m KeyError:\n\u001b[32m-> \u001b[39m\u001b[32m1155\u001b[39m             _, name, variable = _get_virtual_variable(self._variables, name, self.sizes)\n\u001b[32m   1156\u001b[39m \n",
      "\u001b[31mKeyError\u001b[39m: 'tas'",
      "\nDuring handling of the above exception, another exception occurred:\n",
      "\u001b[31mKeyError\u001b[39m                                  Traceback (most recent call last)",
      "\u001b[36mFile \u001b[39m\u001b[32m/scratch/k10/yl8842/hk25/lib/python3.13/site-packages/xarray/core/dataset.py:1252\u001b[39m, in \u001b[36mDataset.__getitem__\u001b[39m\u001b[34m(self, key)\u001b[39m\n\u001b[32m   1251\u001b[39m \u001b[38;5;28;01mtry\u001b[39;00m:\n\u001b[32m-> \u001b[39m\u001b[32m1252\u001b[39m     \u001b[38;5;28;01mreturn\u001b[39;00m \u001b[38;5;28mself\u001b[39m._construct_dataarray(key)\n\u001b[32m   1253\u001b[39m \u001b[38;5;28;01mexcept\u001b[39;00m \u001b[38;5;167;01mKeyError\u001b[39;00m \u001b[38;5;28;01mas\u001b[39;00m e:\n",
      "\u001b[36mFile \u001b[39m\u001b[32m/scratch/k10/yl8842/hk25/lib/python3.13/site-packages/xarray/core/dataset.py:1155\u001b[39m, in \u001b[36mDataset._construct_dataarray\u001b[39m\u001b[34m(self, name)\u001b[39m\n\u001b[32m   1154\u001b[39m \u001b[38;5;28;01mexcept\u001b[39;00m \u001b[38;5;167;01mKeyError\u001b[39;00m:\n\u001b[32m-> \u001b[39m\u001b[32m1155\u001b[39m     _, name, variable = _get_virtual_variable(\u001b[38;5;28mself\u001b[39m._variables, name, \u001b[38;5;28mself\u001b[39m.sizes)\n\u001b[32m   1157\u001b[39m needed_dims = \u001b[38;5;28mset\u001b[39m(variable.dims)\n",
      "\u001b[36mFile \u001b[39m\u001b[32m/scratch/k10/yl8842/hk25/lib/python3.13/site-packages/xarray/core/dataset_utils.py:79\u001b[39m, in \u001b[36m_get_virtual_variable\u001b[39m\u001b[34m(variables, key, dim_sizes)\u001b[39m\n\u001b[32m     78\u001b[39m \u001b[38;5;28;01mif\u001b[39;00m \u001b[38;5;28mlen\u001b[39m(split_key) != \u001b[32m2\u001b[39m:\n\u001b[32m---> \u001b[39m\u001b[32m79\u001b[39m     \u001b[38;5;28;01mraise\u001b[39;00m \u001b[38;5;167;01mKeyError\u001b[39;00m(key)\n\u001b[32m     81\u001b[39m ref_name, var_name = split_key\n",
      "\u001b[31mKeyError\u001b[39m: 'tas'",
      "\nThe above exception was the direct cause of the following exception:\n",
      "\u001b[31mKeyError\u001b[39m                                  Traceback (most recent call last)",
      "\u001b[32m/jobfs/140928129.gadi-pbs/ipykernel_155724/408356626.py\u001b[39m in \u001b[36m?\u001b[39m\u001b[34m()\u001b[39m\n\u001b[32m     14\u001b[39m data = \u001b[33m\"/g/data/qx55/germany_node/d3hp003.zarr/PT6H_point_z6_atm.zarr\"\u001b[39m \u001b[38;5;66;03m#PT6H is 6-hourly data\u001b[39;00m\n\u001b[32m     15\u001b[39m ds = xr.open_zarr(data)\n\u001b[32m     16\u001b[39m \n\u001b[32m     17\u001b[39m vname = \u001b[33m'tas'\u001b[39m\n\u001b[32m---> \u001b[39m\u001b[32m18\u001b[39m r = ds[vname]\n\u001b[32m     19\u001b[39m \u001b[38;5;66;03m#r = ds['hur'].sel(pressure=p*100)\u001b[39;00m\n\u001b[32m     20\u001b[39m \n\u001b[32m     21\u001b[39m \u001b[38;5;28;01mdef\u001b[39;00m get_nn_lon_lat_index(nside, lons, lats):\n",
      "\u001b[32m/scratch/k10/yl8842/hk25/lib/python3.13/site-packages/xarray/core/dataset.py\u001b[39m in \u001b[36m?\u001b[39m\u001b[34m(self, key)\u001b[39m\n\u001b[32m   1261\u001b[39m \n\u001b[32m   1262\u001b[39m                 \u001b[38;5;66;03m# If someone attempts `ds['foo' , 'bar']` instead of `ds[['foo', 'bar']]`\u001b[39;00m\n\u001b[32m   1263\u001b[39m                 \u001b[38;5;28;01mif\u001b[39;00m isinstance(key, tuple):\n\u001b[32m   1264\u001b[39m                     message += f\"\\nHint: use a list to select multiple variables, for example `ds[{list(key)}]`\"\n\u001b[32m-> \u001b[39m\u001b[32m1265\u001b[39m                 \u001b[38;5;28;01mraise\u001b[39;00m KeyError(message) \u001b[38;5;28;01mfrom\u001b[39;00m e\n\u001b[32m   1266\u001b[39m \n\u001b[32m   1267\u001b[39m         \u001b[38;5;28;01mif\u001b[39;00m utils.iterable_of_hashable(key):\n\u001b[32m   1268\u001b[39m             \u001b[38;5;28;01mreturn\u001b[39;00m self._copy_listed(key)\n",
      "\u001b[31mKeyError\u001b[39m: \"No variable named 'tas'. Did you mean one of ('ts', 'ta', 'vas', 'uas')?\""
     ]
    }
   ],
   "source": [
    "# Extract 1-hourly 500 hPa Temperature from regridded vertical velocity (hur) data of UM zoom 6 model\n",
    "# Extract 6-ourly 500 hPa Temperature from regridded vertical velocity (hur) data of ICON zoom 6 model\n",
    "import xarray as xr\n",
    "from pathlib import Path\n",
    "import easygems.healpix as egh\n",
    "import healpy as hp\n",
    "import numpy as np\n",
    "from metpy.calc import vertical_velocity_pressure\n",
    "from metpy.units import units\n",
    "import pandas as pd\n",
    "\n",
    "p = 500 # hPa; level of interest\n",
    "data = \"/g/data/qx55/uk_node/glm.n2560_RAL3p3/data.healpix.PT1H.z6.zarr\" #PT1H is hourly data\n",
    "data = \"/g/data/qx55/germany_node/d3hp003.zarr/PT6H_point_z6_atm.zarr\" #PT6H is 6-hourly data\n",
    "ds = xr.open_zarr(data)\n",
    "\n",
    "vname = 'tas'\n",
    "r = ds[vname]\n",
    "#r = ds['hur'].sel(pressure=p*100)\n",
    "\n",
    "def get_nn_lon_lat_index(nside, lons, lats):\n",
    "    \"\"\"\n",
    "    nside: integer, power of 2. The return of hp.get_nside()\n",
    "    lons: uniques values of longitudes\n",
    "    lats: uniques values of latitudes\n",
    "    returns: array with the HEALPix cells that are closest to the lon/lat grid\n",
    "    \"\"\"\n",
    "    lons2, lats2 = np.meshgrid(lons, lats)\n",
    "    return xr.DataArray(\n",
    "        hp.ang2pix(nside, lons2, lats2, nest = True, lonlat = True),\n",
    "        coords=[(\"latitude\", lats), (\"longitude\", lons)],\n",
    "    )"
   ]
  },
  {
   "cell_type": "code",
   "execution_count": null,
   "id": "7d03d5d6-678f-4fed-9493-64267e155181",
   "metadata": {
    "scrolled": true
   },
   "outputs": [],
   "source": [
    "this_nside = hp.get_nside(r)\n",
    "res = 1  # resolution\n",
    "#MC lon: 100 - 149E, lat: 13S to 13N\n",
    "lon = np.arange(100, 149 + res, res)\n",
    "lat = np.arange(-13, 13 + res, res)\n",
    "\n",
    "cells = get_nn_lon_lat_index(this_nside, lon, lat) \n",
    "r_regrid = r.isel(cell=cells)"
   ]
  },
  {
   "cell_type": "code",
   "execution_count": null,
   "id": "1166c29f-ea81-4e16-9e1b-6fd942ea66e3",
   "metadata": {},
   "outputs": [],
   "source": [
    "# Create time selection (no need to modify)\n",
    "full_range = pd.date_range(start=\"2020-03-01\", end=\"2021-02-28\", freq=\"3h\")\n",
    "full_range = pd.date_range(start=\"2020-03-01\", end=\"2021-02-28\", freq=\"6h\")\n",
    "date_str_list = full_range.strftime(\"%Y-%m-%dT%H:%M:%S\").tolist()\n",
    "\n",
    "#exclude_start = pd.Timestamp(\"2020-05-01 00:00:00\")\n",
    "#exclude_end = pd.Timestamp(\"2020-09-30 00:00:00\")\n",
    "#filtered_range = full_range[(full_range < exclude_start) | (full_range > exclude_end)]\n",
    "#date_str_list = filtered_range.strftime(\"%Y-%m-%dT%H:%M:%S\").tolist()\n",
    "\n",
    "dir_out = '/scratch/nf33/hk25_LSP/UK/MC_chunk/'\n",
    "#dir_out = '/scratch/nf33/hk25_LSP/Germany/MC_chunk/'\n",
    "Path(dir_out).mkdir(exist_ok=True)\n",
    "\n",
    "# ✅ Start looping only over the gridded lat/lon (efficient)\n",
    "grid_id = 1\n",
    "for i in range(0, len(lat) - 1, 2): \n",
    "    for j in range(0, len(lon) - 1, 2):  \n",
    "        lat_box = slice(lat[i], lat[i+1])\n",
    "        lon_box = slice(lon[j], lon[j+1])\n",
    "\n",
    "        try:\n",
    "            r_box = r_regrid.sel(latitude=lat_box, longitude=lon_box)\n",
    "\n",
    "            #r500_box = r_box.sel(time=date_str_list).mean(dim=(\"latitude\", \"longitude\"))\n",
    "            r500_box = r_box.sel(time=date_str_list)#.mean(dim=(\"latitude\", \"longitude\"))\n",
    "            r500_box = r500_box.to_dataset(name=vname)\n",
    "\n",
    "            fname = f'{dir_out}{vname}_3hr_{grid_id:03d}.nc'\n",
    "            fname = f'{dir_out}{vname}_6hr_{grid_id:03d}.nc'\n",
    "            r500_box.to_netcdf(fname)\n",
    "            print(f\"Saved {fname}\")\n",
    "\n",
    "        except Exception as e:\n",
    "            print(f\"Skipped grid {grid_id:03d} due to error: {e}\")\n",
    "\n",
    "        grid_id += 1\n"
   ]
  }
 ],
 "metadata": {
  "kernelspec": {
   "display_name": "hk25",
   "language": "python",
   "name": "hk25"
  },
  "language_info": {
   "codemirror_mode": {
    "name": "ipython",
    "version": 3
   },
   "file_extension": ".py",
   "mimetype": "text/x-python",
   "name": "python",
   "nbconvert_exporter": "python",
   "pygments_lexer": "ipython3",
   "version": "3.13.2"
  }
 },
 "nbformat": 4,
 "nbformat_minor": 5
}
