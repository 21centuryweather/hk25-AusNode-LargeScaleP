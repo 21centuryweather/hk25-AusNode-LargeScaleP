{
 "cells": [
  {
   "cell_type": "code",
   "execution_count": 1,
   "id": "03b01199-3f09-488d-9c49-1bd87c386ea0",
   "metadata": {},
   "outputs": [],
   "source": [
    "import numpy as np\n",
    "import xarray as xr\n",
    "from tqdm import tqdm\n",
    "from xcape.core import calc_cape\n",
    "import os"
   ]
  },
  {
   "cell_type": "code",
   "execution_count": 2,
   "id": "8615e3f2-fa63-4992-8446-fa55cf942ef9",
   "metadata": {},
   "outputs": [],
   "source": [
    "itime=0"
   ]
  },
  {
   "cell_type": "code",
   "execution_count": 3,
   "id": "e9ae1be2-b6de-4095-8c7c-0a79f93ff4b0",
   "metadata": {},
   "outputs": [],
   "source": [
    "ds_tas = xr.open_dataset(\"/scratch/nf33/hk25_LSP/UK/MC/tas_3hourly.nc\").isel(time=itime)\n",
    "ta_surf = ds_tas[\"tas\"].stack(ngrid=('latitude','longitude')).values.flatten()-273.15\n",
    "ds_tdews = xr.open_dataset(\"/scratch/nf33/hk25_LSP/UK/MC/tdews_3hourly.nc\").isel(time=itime)\n",
    "tdew_surf = ds_tdews[\"tdews\"].stack(ngrid=('latitude','longitude')).values.flatten()-273.15"
   ]
  },
  {
   "cell_type": "code",
   "execution_count": 4,
   "id": "22d1c96a-3795-4efd-88d3-66074a2210f0",
   "metadata": {},
   "outputs": [],
   "source": [
    "ds_ta = xr.open_dataset(\"/scratch/nf33/hk25_LSP/UK/MC/ta_3hourly.nc\").isel(time=itime)\n",
    "ds_tdew = xr.open_dataset(\"/scratch/nf33/hk25_LSP/UK/MC/tdew_3hourly.nc\").isel(time=itime)\n"
   ]
  },
  {
   "cell_type": "code",
   "execution_count": 6,
   "id": "fbff9337-463d-4677-97e0-be0ce53b0efe",
   "metadata": {},
   "outputs": [],
   "source": [
    "ta_da = ds_ta[\"ta\"].stack(ngrid=('latitude','longitude')).isel(pressure=slice(None, None, -1)).transpose('ngrid','pressure')-273.15\n",
    "tdew_da = ds_tdew[\"tdew\"].stack(ngrid=('latitude','longitude')).isel(pressure=slice(None, None, -1)).transpose('ngrid','pressure')-273.15"
   ]
  },
  {
   "cell_type": "code",
   "execution_count": 7,
   "id": "bc61564e-5256-4a32-9878-d9fcf603019a",
   "metadata": {},
   "outputs": [],
   "source": [
    "ta_val = ta_da.load().values\n",
    "td_val = tdew_da.load().values\n",
    "psurf = np.zeros(ta_val.shape[0])\n",
    "psurf[:] = 1031"
   ]
  },
  {
   "cell_type": "code",
   "execution_count": 8,
   "id": "4fec983d-e6bd-4895-9933-b41424f82d43",
   "metadata": {},
   "outputs": [],
   "source": [
    "plvl = ds_ta.pressure.isel(pressure=slice(None, None, -1)).values.astype(float)"
   ]
  },
  {
   "cell_type": "code",
   "execution_count": 9,
   "id": "111c19a0-806b-4fed-8070-e4d13a2eb254",
   "metadata": {},
   "outputs": [
    {
     "data": {
      "text/plain": [
       "array([1000.,  975.,  950.,  925.,  900.,  875.,  850.,  800.,  750.,\n",
       "        700.,  600.,  500.,  400.,  300.,  250.,  200.,  150.,  100.])"
      ]
     },
     "execution_count": 9,
     "metadata": {},
     "output_type": "execute_result"
    }
   ],
   "source": [
    "plvl"
   ]
  },
  {
   "cell_type": "code",
   "execution_count": 10,
   "id": "68341e17-a796-4e2c-b697-8bc1d50f5470",
   "metadata": {},
   "outputs": [
    {
     "data": {
      "text/plain": [
       "((646, 18), (646, 18), (646,))"
      ]
     },
     "execution_count": 10,
     "metadata": {},
     "output_type": "execute_result"
    }
   ],
   "source": [
    "ta_val.shape, td_val.shape, ta_surf.shape"
   ]
  },
  {
   "cell_type": "code",
   "execution_count": 11,
   "id": "2afba670-f591-4159-855b-fd26766df69f",
   "metadata": {},
   "outputs": [
    {
     "name": "stdout",
     "output_type": "stream",
     "text": [
      "CPU times: user 229 ms, sys: 1.85 ms, total: 231 ms\n",
      "Wall time: 229 ms\n"
     ]
    }
   ],
   "source": [
    "%%time\n",
    "cape, cin, mulev, zmulev = calc_cape(plvl, ta_val, td_val, \n",
    "                                         psurf,ta_surf, \n",
    "                                         tdew_surf,\n",
    "                                         source ='most-unstable', vertical_lev=\"pressure\")"
   ]
  },
  {
   "cell_type": "code",
   "execution_count": 13,
   "id": "d6f0f6cb-37bb-4572-8569-d294040c7d6c",
   "metadata": {},
   "outputs": [],
   "source": [
    "cape_2d = cape.reshape(ds_ta.latitude.shape[0],ds_ta.longitude.shape[0])\n",
    "cin_2d = cin.reshape(ds_tdew.latitude.shape[0],ds_tdew.longitude.shape[0])"
   ]
  },
  {
   "cell_type": "code",
   "execution_count": 14,
   "id": "5c800dab-bcf8-4c46-8d2c-3089269ad224",
   "metadata": {},
   "outputs": [
    {
     "data": {
      "text/plain": [
       "(19, 34)"
      ]
     },
     "execution_count": 14,
     "metadata": {},
     "output_type": "execute_result"
    }
   ],
   "source": [
    "cape_2d.shape"
   ]
  },
  {
   "cell_type": "code",
   "execution_count": 14,
   "id": "7ab72e22-aba6-4b52-858e-a64ebdb8e932",
   "metadata": {},
   "outputs": [],
   "source": [
    "out = xr.Dataset(\n",
    "        {\n",
    "            \"cape\": ((\"time\",\"latitude\",\"longitude\"), cape_2d),\n",
    "            \"cin\":  ((\"time\",\"latitude\",\"longitude\"), cin_2d),\n",
    "        },\n",
    "        coords={\n",
    "            \"latitude\": ds_ta.latitude,\n",
    "            \"longitude\": ds_ta.longitude,\n",
    "            \"time\":      ds_ta.time,\n",
    "        },\n",
    "    )\n",
    "out.to_netcdf(f\"/scratch/nf33/hk25_LSP/UK/MC/cape_cin_3hourly.nc\")"
   ]
  },
  {
   "cell_type": "code",
   "execution_count": 18,
   "id": "df700236-a9e9-4cf5-bd0a-afaf60bf3b8a",
   "metadata": {},
   "outputs": [],
   "source": [
    "ds_cape_cin = xr.open_mfdataset(\"/scratch/nf33/hk25_LSP/UK/MC/cape_cin/*.nc\")"
   ]
  },
  {
   "cell_type": "code",
   "execution_count": 19,
   "id": "c5147eed-bc3a-4d0e-86f9-d8ff1c32be28",
   "metadata": {},
   "outputs": [
    {
     "name": "stderr",
     "output_type": "stream",
     "text": [
      "/jobfs/140911377.gadi-pbs/ipykernel_252349/4141139881.py:1: UserWarning: Times can't be serialized faithfully to int64 with requested units 'days since 2020-03-01'. Serializing with units 'hours since 2020-03-01' instead. Set encoding['dtype'] to floating point dtype to serialize with units 'days since 2020-03-01'. Set encoding['units'] to 'hours since 2020-03-01' to silence this warning .\n",
      "  ds_cape_cin.to_netcdf(\"/scratch/nf33/hk25_LSP/UK/MC/cape_cin_3hourly.nc\")\n"
     ]
    }
   ],
   "source": [
    "ds_cape_cin.to_netcdf(\"/scratch/nf33/hk25_LSP/UK/MC/cape_cin_3hourly.nc\")"
   ]
  },
  {
   "cell_type": "code",
   "execution_count": null,
   "id": "053687e3-662e-4964-926e-112db44fad78",
   "metadata": {},
   "outputs": [],
   "source": []
  }
 ],
 "metadata": {
  "kernelspec": {
   "display_name": "Python [conda env:xcape_env]",
   "language": "python",
   "name": "conda-env-xcape_env-py"
  },
  "language_info": {
   "codemirror_mode": {
    "name": "ipython",
    "version": 3
   },
   "file_extension": ".py",
   "mimetype": "text/x-python",
   "name": "python",
   "nbconvert_exporter": "python",
   "pygments_lexer": "ipython3",
   "version": "3.11.12"
  }
 },
 "nbformat": 4,
 "nbformat_minor": 5
}
