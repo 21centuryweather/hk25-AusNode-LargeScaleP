{
 "cells": [
  {
   "cell_type": "code",
   "execution_count": 1,
   "id": "c23c8829-4c6f-48e5-91b4-008c7b863b56",
   "metadata": {},
   "outputs": [],
   "source": [
    "import xarray as xr\n",
    "from pathlib import Path\n",
    "import matplotlib.pyplot as plt\n",
    "import easygems.healpix as egh\n",
    "import cartopy.crs as ccrs\n",
    "import healpy as hp\n",
    "import numpy as np"
   ]
  },
  {
   "cell_type": "code",
   "execution_count": 2,
   "id": "de10d01a-f976-4911-bcf9-1e2061c167da",
   "metadata": {},
   "outputs": [],
   "source": [
    "def get_nn_lon_lat_index(nside, lons, lats):\n",
    "    \"\"\"\n",
    "    nside: integer, power of 2. The return of hp.get_nside()\n",
    "    lons: uniques values of longitudes\n",
    "    lats: uniques values of latitudes\n",
    "    returns: array with the HEALPix cells that are closest to the lon/lat grid\n",
    "    \"\"\"\n",
    "    lons2, lats2 = np.meshgrid(lons, lats)\n",
    "    return xr.DataArray(\n",
    "        hp.ang2pix(nside, lons2, lats2, nest = True, lonlat = True),\n",
    "        coords=[(\"lat\", lats), (\"lon\", lons)],\n",
    "    )"
   ]
  },
  {
   "cell_type": "code",
   "execution_count": 3,
   "id": "cf02a084-59f0-410f-903e-4fe5b8a7bbbc",
   "metadata": {},
   "outputs": [],
   "source": [
    "zarr_file = \"/g/data/qx55/uk_node/glm.n2560_RAL3p3/data.healpix.PT1H.z10.zarr\"\n",
    "ds = xr.open_zarr(zarr_file)"
   ]
  },
  {
   "cell_type": "code",
   "execution_count": 4,
   "id": "a47a983c-d103-4527-ade4-57e7f119072d",
   "metadata": {},
   "outputs": [],
   "source": [
    "var_um = ds['tas']"
   ]
  },
  {
   "cell_type": "code",
   "execution_count": 6,
   "id": "825fc0bd-600f-45f6-b8b8-c499ef15f285",
   "metadata": {},
   "outputs": [],
   "source": [
    "# Find the HEALPix pixels that are closest to the ERA5 grid\n",
    "res = 0.03\n",
    "# longitudes and latitudes for the ERA5 grid\n",
    "lon = np.arange(130,132+res,res)\n",
    "lat = np.arange(-13.5, -11.5+res,res)\n",
    "\n",
    "# nside for um simulation, it should be equal to 2**zoom\n",
    "this_nside = hp.get_nside(var_um)\n",
    "\n",
    "cells = get_nn_lon_lat_index(this_nside, lon, lat) \n",
    "\n",
    "var_um_regrided = var_um.isel(cell = cells).rename({'lon': 'longitude', 'lat': 'latitude'}) # regriding\n"
   ]
  },
  {
   "cell_type": "code",
   "execution_count": null,
   "id": "e14dc386-cff5-4b20-b4b2-077231119885",
   "metadata": {},
   "outputs": [],
   "source": [
    "projection = ccrs.PlateCarree(central_longitude = 0.0)\n",
    "fig, ax = plt.subplots(subplot_kw = {\"projection\": projection})\n",
    "var_um_regrided.isel(time = 300).plot(cmap = 'viridis', transform = ccrs.PlateCarree())\n",
    "ax.coastlines()"
   ]
  },
  {
   "cell_type": "code",
   "execution_count": null,
   "id": "6c408ee7-096f-4f4a-a430-145ec0d49a9a",
   "metadata": {},
   "outputs": [],
   "source": []
  }
 ],
 "metadata": {
  "kernelspec": {
   "display_name": "Python [conda env:xcape_env]",
   "language": "python",
   "name": "conda-env-xcape_env-py"
  },
  "language_info": {
   "codemirror_mode": {
    "name": "ipython",
    "version": 3
   },
   "file_extension": ".py",
   "mimetype": "text/x-python",
   "name": "python",
   "nbconvert_exporter": "python",
   "pygments_lexer": "ipython3",
   "version": "3.11.12"
  }
 },
 "nbformat": 4,
 "nbformat_minor": 5
}
