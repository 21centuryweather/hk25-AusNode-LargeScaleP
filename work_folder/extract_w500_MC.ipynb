{
 "cells": [
  {
   "cell_type": "code",
   "execution_count": 1,
   "id": "78d689a6-d2d7-4163-b050-99db5d7a1bac",
   "metadata": {
    "scrolled": true
   },
   "outputs": [],
   "source": [
    "# Extract 3-hourly 500 hPa Omega from regridded vertical velocity (wa) data of UM zoom 6 model\n",
    "# Extract 6-hourly 500 hPa Omega from regridded vertical velocity (wa) data of ICON zoom 6 model\n",
    "import xarray as xr\n",
    "from pathlib import Path\n",
    "import easygems.healpix as egh\n",
    "import healpy as hp\n",
    "import numpy as np\n",
    "\n",
    "p = 500 # hPa; level of interest\n",
    "data = \"/g/data/qx55/uk_node/glm.n2560_RAL3p3/data.healpix.PT3H.z6.zarr\" #PT1H is hourly data\n",
    "data = \"/g/data/qx55/germany_node/d3hp003.zarr/PT6H_point_z6_atm.zarr\" #PT6H is 6-hourly data\n",
    "ds = xr.open_zarr(data)\n",
    "\n",
    "#w = ds['wa'].sel(pressure=p)\n",
    "#t = ds['ta'].sel(pressure=p)\n",
    "w = ds['wa'].sel(pressure=p*100)\n",
    "t = ds['ta'].sel(pressure=p*100)\n",
    "\n",
    "def get_nn_lon_lat_index(nside, lons, lats):\n",
    "    \"\"\"\n",
    "    nside: integer, power of 2. The return of hp.get_nside()\n",
    "    lons: uniques values of longitudes\n",
    "    lats: uniques values of latitudes\n",
    "    returns: array with the HEALPix cells that are closest to the lon/lat grid\n",
    "    \"\"\"\n",
    "    lons2, lats2 = np.meshgrid(lons, lats)\n",
    "    return xr.DataArray(\n",
    "        hp.ang2pix(nside, lons2, lats2, nest = True, lonlat = True),\n",
    "        coords=[(\"latitude\", lats), (\"longitude\", lons)],\n",
    "    )"
   ]
  },
  {
   "cell_type": "code",
   "execution_count": 2,
   "id": "7d03d5d6-678f-4fed-9493-64267e155181",
   "metadata": {
    "scrolled": true
   },
   "outputs": [],
   "source": [
    "from metpy.calc import vertical_velocity_pressure\n",
    "from metpy.units import units\n",
    "\n",
    "this_nside = hp.get_nside(w)\n",
    "res = 1  # resolution\n",
    "#MC lon: 100 - 149E, lat: 13S to 13N\n",
    "lon = np.arange(100, 149 + res, res)\n",
    "lat = np.arange(-13, 13 + res, res)\n",
    "\n",
    "cells = get_nn_lon_lat_index(this_nside, lon, lat) \n",
    "w_regrid = w.isel(cell=cells)\n",
    "t_regrid = t.isel(cell=cells)\n",
    "\n",
    "omega = vertical_velocity_pressure(w_regrid * units('m/s'), 500 * units.hPa, t_regrid * units.degK)"
   ]
  },
  {
   "cell_type": "code",
   "execution_count": 4,
   "id": "1166c29f-ea81-4e16-9e1b-6fd942ea66e3",
   "metadata": {},
   "outputs": [],
   "source": [
    "import pandas as pd\n",
    "# Create full date range from 2020-03-01 to 2021-02-28\n",
    "#full_range = pd.date_range(start=\"2020-03-01\", end=\"2021-02-28\", freq=\"3h\")\n",
    "full_range = pd.date_range(start=\"2020-03-01\", end=\"2021-02-28\", freq=\"6h\")\n",
    "date_str_list = full_range.strftime(\"%Y%m%d %H:%M:%S\").tolist()\n",
    "\n",
    "w500 = omega.sel(time=date_str_list).mean(dim=(\"latitude\",\"longitude\"))\n",
    "w500 = w500.metpy.dequantify()"
   ]
  },
  {
   "cell_type": "code",
   "execution_count": 5,
   "id": "f5a4eaea-3bdc-4d4e-a770-12f939026a70",
   "metadata": {},
   "outputs": [
    {
     "name": "stdout",
     "output_type": "stream",
     "text": [
      "Saved to  /scratch/nf33/hk25_LSP/Germany/Darwin/w500_6hr.nc\n"
     ]
    }
   ],
   "source": [
    "dir = '/scratch/nf33/hk25_LSP/UK/MC/'\n",
    "dir = '/scratch/nf33/hk25_LSP/Germany/Darwin/'\n",
    "fname = 'w500_3hr.nc'\n",
    "fname = 'w500_6hr.nc'\n",
    "\n",
    "w500.to_netcdf(dir+fname)\n",
    "print(f\"Saved to \",dir+fname)"
   ]
  },
  {
   "cell_type": "code",
   "execution_count": null,
   "id": "3ceec871-aa4c-4cfa-b3d5-17766c57ff84",
   "metadata": {},
   "outputs": [],
   "source": []
  }
 ],
 "metadata": {
  "kernelspec": {
   "display_name": "hk25",
   "language": "python",
   "name": "hk25"
  },
  "language_info": {
   "codemirror_mode": {
    "name": "ipython",
    "version": 3
   },
   "file_extension": ".py",
   "mimetype": "text/x-python",
   "name": "python",
   "nbconvert_exporter": "python",
   "pygments_lexer": "ipython3",
   "version": "3.13.2"
  }
 },
 "nbformat": 4,
 "nbformat_minor": 5
}
