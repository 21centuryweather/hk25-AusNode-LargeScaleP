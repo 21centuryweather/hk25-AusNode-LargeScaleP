{
 "cells": [
  {
   "cell_type": "code",
   "execution_count": 1,
   "id": "35e374e8-a561-4640-9221-daac9c6e09f5",
   "metadata": {},
   "outputs": [
    {
     "name": "stderr",
     "output_type": "stream",
     "text": [
      "pr_th=0.5 mm/h: 100%|██████████| 325/325 [03:41<00:00,  1.47it/s]\n"
     ]
    },
    {
     "name": "stdout",
     "output_type": "stream",
     "text": [
      "Saved to /scratch/nf33/hk25_LSP/Germany/MC_chunk/number_size_prth_0.5_hourly.nc\n"
     ]
    },
    {
     "name": "stderr",
     "output_type": "stream",
     "text": [
      "pr_th=1 mm/h: 100%|██████████| 325/325 [02:44<00:00,  1.97it/s]\n"
     ]
    },
    {
     "name": "stdout",
     "output_type": "stream",
     "text": [
      "Saved to /scratch/nf33/hk25_LSP/Germany/MC_chunk/number_size_prth_1_hourly.nc\n"
     ]
    },
    {
     "name": "stderr",
     "output_type": "stream",
     "text": [
      "pr_th=2 mm/h: 100%|██████████| 325/325 [02:52<00:00,  1.89it/s]\n"
     ]
    },
    {
     "name": "stdout",
     "output_type": "stream",
     "text": [
      "Saved to /scratch/nf33/hk25_LSP/Germany/MC_chunk/number_size_prth_2_hourly.nc\n"
     ]
    },
    {
     "name": "stderr",
     "output_type": "stream",
     "text": [
      "pr_th=3 mm/h: 100%|██████████| 325/325 [02:40<00:00,  2.03it/s]\n"
     ]
    },
    {
     "name": "stdout",
     "output_type": "stream",
     "text": [
      "Saved to /scratch/nf33/hk25_LSP/Germany/MC_chunk/number_size_prth_3_hourly.nc\n"
     ]
    },
    {
     "name": "stderr",
     "output_type": "stream",
     "text": [
      "pr_th=4 mm/h: 100%|██████████| 325/325 [02:42<00:00,  2.00it/s]\n"
     ]
    },
    {
     "name": "stdout",
     "output_type": "stream",
     "text": [
      "Saved to /scratch/nf33/hk25_LSP/Germany/MC_chunk/number_size_prth_4_hourly.nc\n"
     ]
    },
    {
     "name": "stderr",
     "output_type": "stream",
     "text": [
      "pr_th=5 mm/h: 100%|██████████| 325/325 [02:37<00:00,  2.06it/s]\n"
     ]
    },
    {
     "name": "stdout",
     "output_type": "stream",
     "text": [
      "Saved to /scratch/nf33/hk25_LSP/Germany/MC_chunk/number_size_prth_5_hourly.nc\n"
     ]
    }
   ],
   "source": [
    "import xarray as xr\n",
    "import numpy as np\n",
    "import matplotlib.pyplot as plt\n",
    "from scipy import ndimage\n",
    "from skimage.measure import label\n",
    "from tqdm import tqdm\n",
    "from multiprocess import Pool\n",
    "import os\n",
    "import warnings\n",
    "\n",
    "# ============ USER SETTINGS ============\n",
    "country = \"Germany\"\n",
    "region = \"MC\"\n",
    "max_pool = 28\n",
    "domain_area = 200.0 * 200.0  # fixed domain area in km2\n",
    "pr_th_list = [0.5, 1, 2, 3, 4, 5]\n",
    "# ========================================\n",
    "\n",
    "with warnings.catch_warnings():\n",
    "    warnings.filterwarnings(\"ignore\", category=RuntimeWarning)\n",
    "\n",
    "ds_prcp = xr.open_dataset(f\"/scratch/nf33/hk25_LSP/{country}/{region}/pr_hourly.nc\")\n",
    "ds_coarse = xr.open_dataset(f\"/scratch/nf33/hk25_LSP/{country}/{region}_chunk/rh500_2deg.nc\")\n",
    "\n",
    "lat_centers = ds_coarse.latitude.values\n",
    "lon_centers = ds_coarse.longitude.values\n",
    "\n",
    "lat_edges = np.concatenate((lat_centers - 1, [lat_centers[-1] + 1]))\n",
    "lon_edges = np.concatenate((lon_centers - 1, [lon_centers[-1] + 1]))\n",
    "\n",
    "for pr_th in pr_th_list:\n",
    "    def get_sub_prcp(args):\n",
    "        i, j = args\n",
    "        num_obj_arr = np.zeros(len(ds_prcp.time))\n",
    "        tot_area_arr = np.zeros(len(ds_prcp.time))\n",
    "        mean_obj_area_arr = np.zeros(len(ds_prcp.time))\n",
    "        area_frac_arr = np.zeros(len(ds_prcp.time))\n",
    "        cvt_mean_prcp_arr = np.zeros(len(ds_prcp.time))\n",
    "        tot_mean_prcp_arr = np.zeros(len(ds_prcp.time))\n",
    "        cvt_tot_prcp_arr = np.zeros(len(ds_prcp.time))\n",
    "\n",
    "        lat0, lat1 = lat_edges[i], lat_edges[i+1]\n",
    "        lon0, lon1 = lon_edges[j], lon_edges[j+1]\n",
    "\n",
    "        sub = ds_prcp.sel(latitude=slice(lat0, lat1), longitude=slice(lon0, lon1))\n",
    "\n",
    "        for its in range(len(ds_prcp.time)):\n",
    "            prcp = sub[\"pr\"].isel(time=its) * 3600  # to mm/h\n",
    "            cvt_prcp = np.sum(prcp.values[prcp.values >= pr_th])\n",
    "            cv_obj = prcp.copy().fillna(0)\n",
    "            cv_obj.values[cv_obj.values < pr_th] = 0\n",
    "            cv_obj.values[cv_obj.values >= pr_th] = 6\n",
    "            label_arr = label(cv_obj)\n",
    "            unique_label = np.unique(label_arr)\n",
    "            num_obj_arr[its] = len(unique_label) - 1\n",
    "\n",
    "            ind_obj_area = np.zeros(len(unique_label) - 1)\n",
    "            for ilb in unique_label:\n",
    "                if ilb == 0:\n",
    "                    continue\n",
    "                ind_obj_area[ilb - 1] = np.sum(label_arr == ilb) * 16.0  # 0.04 deg grid ~ 16 km2\n",
    "\n",
    "            with warnings.catch_warnings():\n",
    "                warnings.filterwarnings(\"ignore\", category=RuntimeWarning)\n",
    "                tot_area_arr[its] = np.sum(ind_obj_area)\n",
    "                if num_obj_arr[its] > 0:\n",
    "                    mean_obj_area_arr[its] = tot_area_arr[its] / num_obj_arr[its]\n",
    "                else:\n",
    "                    mean_obj_area_arr[its] = np.nan\n",
    "                area_frac_arr[its] = tot_area_arr[its] / domain_area\n",
    "                if tot_area_arr[its] > 0:\n",
    "                    cvt_mean_prcp_arr[its] = cvt_prcp / tot_area_arr[its]\n",
    "                else:\n",
    "                    cvt_mean_prcp_arr[its] = np.nan\n",
    "                tot_mean_prcp_arr[its] = cvt_prcp / domain_area\n",
    "                cvt_tot_prcp_arr[its] = cvt_prcp\n",
    "\n",
    "        return num_obj_arr, tot_area_arr, mean_obj_area_arr, area_frac_arr, cvt_mean_prcp_arr, tot_mean_prcp_arr, cvt_tot_prcp_arr\n",
    "\n",
    "    # Initialize arrays\n",
    "    shape = (len(ds_prcp.time), len(ds_coarse.latitude), len(ds_coarse.longitude))\n",
    "    num_obj_3d = np.zeros(shape)\n",
    "    tot_area_3d = np.zeros(shape)\n",
    "    mean_obj_area_3d = np.zeros(shape)\n",
    "    area_frac_3d = np.zeros(shape)\n",
    "    cvt_mean_prcp_3d = np.zeros(shape)\n",
    "    tot_mean_prcp_3d = np.zeros(shape)\n",
    "    cvt_tot_prcp_3d = np.zeros(shape)\n",
    "\n",
    "    args_list = [(i, j) for i in range(len(lat_edges) - 1) for j in range(len(lon_edges) - 1)]\n",
    "\n",
    "    # Run in parallel\n",
    "    with Pool(max_pool) as p:\n",
    "        pool_outputs = list(\n",
    "            tqdm(\n",
    "                p.imap(get_sub_prcp, args_list),\n",
    "                total=len(args_list),\n",
    "                position=0, leave=True,\n",
    "                desc=f\"pr_th={pr_th} mm/h\"\n",
    "            )\n",
    "        )\n",
    "\n",
    "    # Combine outputs\n",
    "    nlon = len(lon_edges) - 1\n",
    "    for flat_idx, value in enumerate(pool_outputs):\n",
    "        i = flat_idx // nlon\n",
    "        j = flat_idx % nlon\n",
    "        num_obj_3d[:, i, j], tot_area_3d[:, i, j], mean_obj_area_3d[:, i, j], area_frac_3d[:, i, j], cvt_mean_prcp_3d[:, i, j], tot_mean_prcp_3d[:, i, j], cvt_tot_prcp_3d[:, i, j] = value\n",
    "\n",
    "    # Save output\n",
    "    output_path = f\"/scratch/nf33/hk25_LSP/{country}/{region}_chunk/number_size_prth_{pr_th}_hourly.nc\"\n",
    "    out = xr.Dataset(\n",
    "        {\n",
    "            \"num_obj\": ((\"time\", \"latitude\", \"longitude\"), num_obj_3d),\n",
    "            \"tot_area\": ((\"time\", \"latitude\", \"longitude\"), tot_area_3d),\n",
    "            \"mean_obj_area\": ((\"time\", \"latitude\", \"longitude\"), mean_obj_area_3d),\n",
    "            \"area_frac\": ((\"time\", \"latitude\", \"longitude\"), area_frac_3d),\n",
    "            \"cvt_mean_prcp\": ((\"time\", \"latitude\", \"longitude\"), cvt_mean_prcp_3d),\n",
    "            \"tot_mean_prcp\": ((\"time\", \"latitude\", \"longitude\"), tot_mean_prcp_3d),\n",
    "            \"cvt_tot_prcp\": ((\"time\", \"latitude\", \"longitude\"), cvt_tot_prcp_3d),\n",
    "        },\n",
    "        coords={\n",
    "            \"time\": ds_prcp.time.values,\n",
    "            \"latitude\": ds_coarse.latitude.values,\n",
    "            \"longitude\": ds_coarse.longitude.values,\n",
    "        },\n",
    "    )\n",
    "    out.to_netcdf(output_path)\n",
    "    print(f\"Saved to {output_path}\")\n",
    "    out.close()\n",
    "\n",
    "ds_prcp.close()\n"
   ]
  },
  {
   "cell_type": "code",
   "execution_count": null,
   "id": "ff983e9e-b7a8-41c9-b58d-9e99647c6707",
   "metadata": {},
   "outputs": [],
   "source": []
  }
 ],
 "metadata": {
  "kernelspec": {
   "display_name": "hk25",
   "language": "python",
   "name": "hk25"
  },
  "language_info": {
   "codemirror_mode": {
    "name": "ipython",
    "version": 3
   },
   "file_extension": ".py",
   "mimetype": "text/x-python",
   "name": "python",
   "nbconvert_exporter": "python",
   "pygments_lexer": "ipython3",
   "version": "3.13.2"
  }
 },
 "nbformat": 4,
 "nbformat_minor": 5
}
