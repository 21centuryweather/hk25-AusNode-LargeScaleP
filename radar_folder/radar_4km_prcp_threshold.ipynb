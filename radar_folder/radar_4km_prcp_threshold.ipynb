{
 "cells": [
  {
   "cell_type": "code",
   "execution_count": 1,
   "id": "13d87938-eaaa-4d56-8411-900ef173a0e7",
   "metadata": {},
   "outputs": [],
   "source": [
    "import xarray as xr\n",
    "import numpy as np\n",
    "import matplotlib.pyplot as plt\n",
    "from scipy import ndimage\n",
    "from skimage.measure import label\n",
    "from tqdm import tqdm\n",
    "import re\n",
    "from multiprocess import Pool\n",
    "import os\n",
    "import warnings\n",
    "with warnings.catch_warnings():\n",
    "    warnings.filterwarnings(\"ignore\", category=RuntimeWarning)"
   ]
  },
  {
   "cell_type": "code",
   "execution_count": 2,
   "id": "aa92c5b6-5764-443c-9820-d540b34fb808",
   "metadata": {},
   "outputs": [],
   "source": [
    "import pandas as pd\n",
    "\n",
    "# Create full date range from 2020-03-01 to 2021-02-28\n",
    "full_range = pd.date_range(start=\"2020-03-01\", end=\"2021-02-28\", freq=\"D\")\n",
    "\n",
    "# Define exclusion period\n",
    "exclude_start = pd.Timestamp(\"2020-05-01\")\n",
    "exclude_end = pd.Timestamp(\"2020-09-30\")\n",
    "\n",
    "# Filter out the excluded range\n",
    "filtered_range = full_range[(full_range < exclude_start) | (full_range > exclude_end)]\n",
    "\n",
    "# Convert to list of strings in yyyymmdd format\n",
    "date_str_list = filtered_range.strftime(\"%Y%m%d\").tolist()\n"
   ]
  },
  {
   "cell_type": "markdown",
   "id": "afc33041-0e0d-4ddf-8490-c5ab23388024",
   "metadata": {},
   "source": [
    "Use the threshold of 6 mm h-1 as in Johnson and Hamilton (1988)"
   ]
  },
  {
   "cell_type": "code",
   "execution_count": 3,
   "id": "b994f766-f27f-45a6-8661-7ea8fb109f08",
   "metadata": {},
   "outputs": [],
   "source": [
    "def calc_clouds(yyyymmdd):\n",
    "    ds_prcp = xr.open_dataset(f\"/scratch/k10/dl6968/hk25_radar_4km/{yyyymmdd}_4km.nc\")\n",
    "    radar_area = 70661\n",
    "    ## initialisation\n",
    "    num_obj_arr = np.zeros(len(ds_prcp.time))\n",
    "    \n",
    "    ## array for total area\n",
    "    tot_area_arr = np.zeros(len(ds_prcp.time))\n",
    "    ## array to store mean cell size\n",
    "    mean_obj_area_arr = np.zeros(len(ds_prcp.time))\n",
    "    ## array to store convective area fraction\n",
    "    area_frac_arr = np.zeros(len(ds_prcp.time))\n",
    "    ## mean precipitation over convective area\n",
    "    cvt_mean_prcp_arr = np.zeros(len(ds_prcp.time))\n",
    "    ## mean precipitation over the entire radar scan\n",
    "    tot_mean_prcp_arr = np.zeros(len(ds_prcp.time))\n",
    "    ## total convective precipitation\n",
    "    cvt_tot_prcp_arr = np.zeros(len(ds_prcp.time))\n",
    "    \n",
    "    for its in range(0,len(ds_prcp.time)):\n",
    "        # data = ds_prcp[\"steiner\"].isel(time=its)\n",
    "        prcp = ds_prcp[\"rainrate\"].isel(time=its)\n",
    "        cvt_prcp = np.sum(prcp.values[prcp.values>=6])    \n",
    "        cv_obj = prcp.copy().fillna(0)\n",
    "        cv_obj.values[cv_obj.values < 6] = 0\n",
    "        cv_obj.values[cv_obj.values >= 6] = 6\n",
    "        ## use scikit learn to label\n",
    "        label_arr = label(cv_obj)\n",
    "        ## find unique objects\n",
    "        unique_label = np.unique(label_arr)\n",
    "        ## get the number of objects \n",
    "        num_obj_arr[its] = len(unique_label) - 1   ## the background is 0\n",
    "        ## individual object area\n",
    "        ind_obj_area = np.zeros(len(unique_label) - 1)\n",
    "        \n",
    "        for i in unique_label:\n",
    "            if i == 0:\n",
    "                continue\n",
    "            else:\n",
    "                ind_obj_area[i-1]= np.sum(label_arr == i) ## the data is 1 km by 1 km so this is exactly the area\n",
    "                ## this may be needed for precip thresholds\n",
    "                # if obj_area <=5:\n",
    "                #     label_new[label_new==i] = 0\n",
    "        with warnings.catch_warnings():\n",
    "            warnings.filterwarnings(\"ignore\", category=RuntimeWarning)\n",
    "            \n",
    "            tot_area_arr[its] = np.sum(ind_obj_area)\n",
    "            mean_obj_area_arr[its] = tot_area_arr[its]/num_obj_arr[its]\n",
    "            area_frac_arr[its] = tot_area_arr[its]/radar_area\n",
    "        \n",
    "            cvt_mean_prcp_arr[its] = cvt_prcp/tot_area_arr[its]\n",
    "            tot_mean_prcp_arr[its] = cvt_prcp/radar_area\n",
    "            cvt_tot_prcp_arr[its] = cvt_prcp\n",
    "        \n",
    "        ## save to netcdf\n",
    "        out = xr.Dataset(\n",
    "            {\n",
    "                \"num_obj\": ((\"time\"), num_obj_arr),\n",
    "                \"tot_area\":  ((\"time\"), tot_area_arr),\n",
    "                \"mean_obj_area\":  ((\"time\"), mean_obj_area_arr),\n",
    "                \"area_frac\":  ((\"time\"), area_frac_arr),\n",
    "                \"cvt_mean_prcp\":  ((\"time\"), cvt_mean_prcp_arr),\n",
    "                \"tot_mean_prcp\":  ((\"time\"), tot_mean_prcp_arr),\n",
    "                \"cvt_tot_prcp\":  ((\"time\"), cvt_tot_prcp_arr),\n",
    "                \n",
    "            },\n",
    "            coords={\n",
    "                \"time\":  ds_prcp.time.values,\n",
    "            },\n",
    "        )\n",
    "        out.to_netcdf(f\"/scratch/nf33/hk25_LSP/radar/radar_number_size_4km_{yyyymmdd}.nc\")\n",
    "        out.close()\n",
    "        ds_prcp.close()"
   ]
  },
  {
   "cell_type": "code",
   "execution_count": 4,
   "id": "a0249804-4c49-4059-8de3-dcb5eafa4070",
   "metadata": {},
   "outputs": [
    {
     "name": "stderr",
     "output_type": "stream",
     "text": [
      "100%|██████████| 212/212 [01:21<00:00,  2.60it/s]\n"
     ]
    }
   ],
   "source": [
    "## parallelise this\n",
    "max_pool = 10\n",
    "\n",
    "with Pool(max_pool) as p:\n",
    "    pool_outputs = list(\n",
    "        tqdm(\n",
    "            p.imap(calc_clouds,\n",
    "                   date_str_list),\n",
    "            total=len(date_str_list),\n",
    "            position=0, leave=True\n",
    "        )\n",
    "    )\n",
    "p.join()"
   ]
  },
  {
   "cell_type": "code",
   "execution_count": null,
   "id": "c0f4c60f-bdd3-4056-86e9-bbaabe28e243",
   "metadata": {},
   "outputs": [],
   "source": []
  }
 ],
 "metadata": {
  "kernelspec": {
   "display_name": "Python [conda env:myenv]",
   "language": "python",
   "name": "conda-env-myenv-py"
  },
  "language_info": {
   "codemirror_mode": {
    "name": "ipython",
    "version": 3
   },
   "file_extension": ".py",
   "mimetype": "text/x-python",
   "name": "python",
   "nbconvert_exporter": "python",
   "pygments_lexer": "ipython3",
   "version": "3.9.7"
  }
 },
 "nbformat": 4,
 "nbformat_minor": 5
}
