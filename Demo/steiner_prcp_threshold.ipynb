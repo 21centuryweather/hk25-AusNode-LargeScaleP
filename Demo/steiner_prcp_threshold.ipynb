{
 "cells": [
  {
   "cell_type": "code",
   "execution_count": 1,
   "id": "13d87938-eaaa-4d56-8411-900ef173a0e7",
   "metadata": {},
   "outputs": [],
   "source": [
    "import xarray as xr\n",
    "import numpy as np\n",
    "import matplotlib.pyplot as plt\n",
    "from scipy import ndimage\n",
    "from skimage.measure import label\n",
    "from tqdm import tqdm\n",
    "import re\n",
    "from multiprocess import Pool\n",
    "import os"
   ]
  },
  {
   "cell_type": "code",
   "execution_count": 3,
   "id": "55467439-a55c-4caf-b1db-65642cc30557",
   "metadata": {},
   "outputs": [],
   "source": [
    "yyyymmdd= 20200301\n",
    "steiner_file = f\"/g/data/rq0/level_2/63/STEINER/63_{yyyymmdd}_steiner.nc\"\n",
    "\n",
    "ds_radar = xr.open_dataset(steiner_file)\n",
    "\n",
    "ds_prcp = xr.open_dataset(f\"/g/data/rq0/admin/level_2_decomissioned_fields/63/RAINRATE/63_{yyyymmdd}_rainrate.nc\")"
   ]
  },
  {
   "cell_type": "code",
   "execution_count": null,
   "id": "b994f766-f27f-45a6-8661-7ea8fb109f08",
   "metadata": {},
   "outputs": [],
   "source": []
  }
 ],
 "metadata": {
  "kernelspec": {
   "display_name": "Python [conda env:myenv]",
   "language": "python",
   "name": "conda-env-myenv-py"
  },
  "language_info": {
   "codemirror_mode": {
    "name": "ipython",
    "version": 3
   },
   "file_extension": ".py",
   "mimetype": "text/x-python",
   "name": "python",
   "nbconvert_exporter": "python",
   "pygments_lexer": "ipython3",
   "version": "3.9.7"
  }
 },
 "nbformat": 4,
 "nbformat_minor": 5
}
